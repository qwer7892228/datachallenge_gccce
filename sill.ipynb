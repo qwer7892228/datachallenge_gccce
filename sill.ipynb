{
 "cells": [
  {
   "cell_type": "code",
   "execution_count": 3,
   "id": "b4c00c7d",
   "metadata": {},
   "outputs": [],
   "source": [
    "import pandas as pd\n",
    "import numpy as np\n",
    "import hashlib as hb"
   ]
  },
  {
   "cell_type": "code",
   "execution_count": 4,
   "id": "caa774c2",
   "metadata": {},
   "outputs": [],
   "source": [
    "sill_be_a = pd.read_csv('./data/問卷A班/1092專注度&參與度問卷_A班.csv')\n",
    "sill_be_b = pd.read_csv('./data/問卷B班/1092專注度&參與度問卷_B班.csv')\n",
    "sill_af_a = pd.read_csv('./data/問卷A班/1092參與度問卷後測_A班.csv')\n",
    "sill_af_b = pd.read_csv('./data/問卷B班/1092參與度問卷後測_B班.csv')"
   ]
  },
  {
   "cell_type": "code",
   "execution_count": 5,
   "id": "fd4eb53f",
   "metadata": {},
   "outputs": [],
   "source": [
    "sill_be_a = sill_be_a.iloc[:,4:]\n",
    "sill_be_b = sill_be_b.iloc[:,4:]\n",
    "\n",
    "sill_af_a = sill_af_a.iloc[:,3:]\n",
    "sill_af_b = sill_af_b.iloc[:,3:]\n"
   ]
  },
  {
   "cell_type": "code",
   "execution_count": 6,
   "id": "3c02236b",
   "metadata": {},
   "outputs": [],
   "source": [
    "sill_be_a.rename(columns={'學號': 'id'},inplace=True)\n",
    "sill_be_b.rename(columns={'學號': 'id'},inplace=True)\n",
    "\n",
    "sill_af_a.rename(columns={'學號': 'id'},inplace=True)\n",
    "sill_af_b.rename(columns={'學號': 'id'},inplace=True)"
   ]
  },
  {
   "cell_type": "code",
   "execution_count": 7,
   "id": "1d16b724",
   "metadata": {},
   "outputs": [],
   "source": [
    "sill_be_a['id'] = sill_be_a['id'].astype(str)\n",
    "sill_be_b['id'] = sill_be_b['id'].astype(str)\n",
    "\n",
    "sill_af_a['id'] = sill_af_a['id'].astype(str)\n",
    "sill_af_b['id'] = sill_af_b['id'].astype(str)"
   ]
  },
  {
   "cell_type": "code",
   "execution_count": 8,
   "id": "0dd1cec4",
   "metadata": {},
   "outputs": [],
   "source": [
    "sill_be_a = sill_be_a[sill_be_a['id'].str.isdigit() == True]\n",
    "sill_be_b = sill_be_b[sill_be_b['id'].str.isdigit() == True]\n",
    "\n",
    "sill_af_a = sill_af_a[sill_af_a['id'].str.isdigit() == True]\n",
    "sill_af_b = sill_af_b[sill_af_b['id'].str.isdigit() == True]"
   ]
  },
  {
   "cell_type": "code",
   "execution_count": 9,
   "id": "507b6d2a",
   "metadata": {},
   "outputs": [],
   "source": [
    "sill_af_b.iloc[0,32] = 0"
   ]
  },
  {
   "cell_type": "code",
   "execution_count": 10,
   "id": "db3caa72",
   "metadata": {},
   "outputs": [],
   "source": [
    "sill_be_df = pd.merge(sill_be_a,sill_be_b,how = 'outer')\n",
    "sill_af_df = pd.merge(sill_af_a,sill_af_b,how = 'outer')"
   ]
  },
  {
   "cell_type": "code",
   "execution_count": 11,
   "id": "fdee1071",
   "metadata": {},
   "outputs": [],
   "source": [
    "sill_be_df = sill_be_df[sill_be_df['id'].apply(lambda x: len(str(x))>=9)]\n",
    "sill_af_df = sill_af_df[sill_af_df['id'].apply(lambda x: len(str(x))>=9)]"
   ]
  },
  {
   "cell_type": "code",
   "execution_count": 12,
   "id": "be2e5d29",
   "metadata": {
    "scrolled": false
   },
   "outputs": [],
   "source": [
    "### MD5\n",
    "def md5(i):\n",
    "    hl = hb.md5()\n",
    "    \n",
    "    hl.update(str(i).encode(encoding='utf-8'))\n",
    "\n",
    "    #print('加密前為 ：' + str(i))\n",
    "    #print('加密後為 ：' + hl.hexdigest())\n",
    "    \n",
    "    return hl.hexdigest()\n",
    "\n",
    "sill_be_df['id'] = sill_be_df['id'].apply(md5)\n",
    "sill_af_df['id'] = sill_af_df['id'].apply(md5)\n"
   ]
  },
  {
   "cell_type": "code",
   "execution_count": 13,
   "id": "86484b0d",
   "metadata": {},
   "outputs": [],
   "source": [
    "def col(x):\n",
    "    if x == '在上這門課之前，您是否學習過任何程式語言? 沒有請答無，有的話請填寫您學過哪些程式語言。':\n",
    "        return 'Before taking this course, have you learned any programming languages? No, please answer no. If yes, please fill in which programming languages you have learned.'\n",
    "    if x == '1. 在課前都會概覽(Survey)課程內容。':\n",
    "        return 'Before class overview (Survey) course content'\n",
    "    if x == '2. 我在課前都會針對課程內容進行自我提問(Question)。':\n",
    "        return 'I will ask myself questions about the content of the course before class(Question)'\n",
    "    if x == '3. 我在課前都有透過詳讀(Read)來預習課程內容。':\n",
    "        return 'I have prepared the content of the course through detailed reading before class'\n",
    "    if x == '4. 我在課堂的總結(Summary)活動，或是課後都會透過回想(Recall)來複習課程內容。':\n",
    "        return 'I will review the content of the course in the summary activity in the class or through the recall after the class.'\n",
    "    if x == '5. 我在課後，都會針對課程內容進行複習(Review)。':\n",
    "        return 'I will review the content of the course after class'\n",
    "    if x == '6. 我覺得SQ3R閱讀策略對我的學習是有幫助的。':\n",
    "        return 'I think SQ3R reading strategy is helpful to my study'\n",
    "    if x == '6. 我覺得填寫課程問卷對我的學習是有幫助的。':\n",
    "        return 'I think filling in the course questionnaire is helpful to my study'\n",
    "    if x == '針對問卷內容(參與度、SQ3R)，有甚麼想跟老師說的話':\n",
    "        return 'Regarding the questionnaire content (participation, SQ3R), what do you want to say to the teacher'\n",
    "    else:\n",
    "        return x"
   ]
  },
  {
   "cell_type": "code",
   "execution_count": 14,
   "id": "f24ce23e",
   "metadata": {},
   "outputs": [],
   "source": [
    "###translation\n",
    "sill_be_df.rename(columns={x: x.split('(')[0] for x in sill_be_df.columns[:11]},inplace=True)\n",
    "\n",
    "sill_be_df.rename(columns={x: x.split('.')[0]+'. '+x.split('(')[1].split(')')[0] for x in sill_be_df.columns[11:]},inplace = True)\n",
    "\n",
    "sill_af_df.rename(columns={x: x.split('.')[0]+'. '+x.split('(')[1].split(')')[0] for x in sill_af_df.columns[1:26]},inplace = True)\n",
    "sill_af_df.rename(columns= lambda x: col(x),inplace = True)"
   ]
  },
  {
   "cell_type": "code",
   "execution_count": 15,
   "id": "6c2cbc66",
   "metadata": {},
   "outputs": [],
   "source": [
    "sill_be_df.to_excel('./output/sill_be.xlsx',encoding='utf8')\n",
    "sill_af_df.to_excel('./output/sill_af.xlsx',encoding='utf8')"
   ]
  },
  {
   "cell_type": "code",
   "execution_count": null,
   "id": "0f87802c",
   "metadata": {},
   "outputs": [],
   "source": []
  },
  {
   "cell_type": "code",
   "execution_count": null,
   "id": "09153ab7",
   "metadata": {},
   "outputs": [],
   "source": []
  }
 ],
 "metadata": {
  "kernelspec": {
   "display_name": "Python 3 (ipykernel)",
   "language": "python",
   "name": "python3"
  },
  "language_info": {
   "codemirror_mode": {
    "name": "ipython",
    "version": 3
   },
   "file_extension": ".py",
   "mimetype": "text/x-python",
   "name": "python",
   "nbconvert_exporter": "python",
   "pygments_lexer": "ipython3",
   "version": "3.8.12"
  }
 },
 "nbformat": 4,
 "nbformat_minor": 5
}

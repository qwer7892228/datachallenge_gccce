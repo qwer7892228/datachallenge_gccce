{
 "cells": [
  {
   "cell_type": "code",
   "execution_count": 20,
   "id": "a07e0f1d",
   "metadata": {},
   "outputs": [],
   "source": [
    "import pandas as pd\n",
    "import hashlib as hb"
   ]
  },
  {
   "cell_type": "code",
   "execution_count": 21,
   "id": "c5bd816f",
   "metadata": {},
   "outputs": [],
   "source": [
    "#score_a = pd.read_excel('./data/A班總成績.xlsx')\n",
    "#score_b = pd.read_excel('./data/B班總成績.xlsx')\n",
    "score_df = pd.read_excel('./data/1092DataSet成績資訊.xlsx')\n"
   ]
  },
  {
   "cell_type": "code",
   "execution_count": 22,
   "id": "74b2eb77",
   "metadata": {},
   "outputs": [],
   "source": [
    "# score_a = score_a[['學號','學期成績']].dropna(axis = 0,how='all')\n",
    "# score_b = score_b[['學號','學期成績']].dropna(axis = 0,how='all')\n",
    "score_df = score_df[['學號','學期成績']].dropna(axis = 0,how='all')"
   ]
  },
  {
   "cell_type": "code",
   "execution_count": 23,
   "id": "be22b199",
   "metadata": {},
   "outputs": [],
   "source": [
    "# score_df = pd.merge(score_a,score_b,how = 'outer')\n",
    "score_df.columns = ['id','score']"
   ]
  },
  {
   "cell_type": "code",
   "execution_count": 24,
   "id": "3675d5ca",
   "metadata": {},
   "outputs": [],
   "source": [
    "score_df['score'] = score_df['score'].round(0).astype(int)\n",
    "\n",
    "score_df.loc[score_df.score >=100,'score'] = 100"
   ]
  },
  {
   "cell_type": "code",
   "execution_count": 25,
   "id": "34e978eb",
   "metadata": {
    "scrolled": false
   },
   "outputs": [],
   "source": [
    "def md5(i):\n",
    "    hl = hb.md5()\n",
    "    \n",
    "    hl.update(str(i).encode(encoding='utf-8'))\n",
    "\n",
    "    #print('加密前為 ：' + str(i))\n",
    "    #print('加密後為 ：' + hl.hexdigest())\n",
    "    \n",
    "    return hl.hexdigest()\n",
    "\n",
    "score_df['id'] = score_df['id'].apply(md5)"
   ]
  },
  {
   "cell_type": "code",
   "execution_count": 26,
   "id": "8c1c534b",
   "metadata": {},
   "outputs": [],
   "source": [
    "score_df.to_csv('./output/score.csv',encoding='utf8') "
   ]
  },
  {
   "cell_type": "code",
   "execution_count": null,
   "id": "fbee86e1",
   "metadata": {},
   "outputs": [],
   "source": []
  },
  {
   "cell_type": "code",
   "execution_count": null,
   "id": "b977c8aa",
   "metadata": {},
   "outputs": [],
   "source": []
  }
 ],
 "metadata": {
  "kernelspec": {
   "display_name": "Python 3 (ipykernel)",
   "language": "python",
   "name": "python3"
  },
  "language_info": {
   "codemirror_mode": {
    "name": "ipython",
    "version": 3
   },
   "file_extension": ".py",
   "mimetype": "text/x-python",
   "name": "python",
   "nbconvert_exporter": "python",
   "pygments_lexer": "ipython3",
   "version": "3.8.12"
  }
 },
 "nbformat": 4,
 "nbformat_minor": 5
}

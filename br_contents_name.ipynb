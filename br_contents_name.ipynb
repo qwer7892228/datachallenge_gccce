{
 "cells": [
  {
   "cell_type": "code",
   "execution_count": 440,
   "id": "3e31bf4b",
   "metadata": {},
   "outputs": [],
   "source": [
    "import pandas as pd\n",
    "import hashlib as hb"
   ]
  },
  {
   "cell_type": "code",
   "execution_count": 449,
   "id": "2b69c63d",
   "metadata": {},
   "outputs": [],
   "source": [
    "br_a = pd.read_csv('./data/1092_A-程式設計-Python_黃鈺晴教師.csv')\n",
    "br_b = pd.read_csv('./data/1092_B-程式設計-Python_黃鈺晴教師.csv')"
   ]
  },
  {
   "cell_type": "code",
   "execution_count": 450,
   "id": "2e573b4c",
   "metadata": {},
   "outputs": [],
   "source": [
    "br_df = pd.merge(br_a,br_b,how = 'outer')"
   ]
  },
  {
   "cell_type": "code",
   "execution_count": 451,
   "id": "b752a96f",
   "metadata": {},
   "outputs": [],
   "source": [
    "br_df['username'] = br_df['username'].str.split('@',expand=True).get(0)\n",
    "br_df = br_df[br_df['username'].str.isdigit() == True]\n",
    "br_df = br_df[br_df['username'].apply(lambda x: len(str(x))>=9)]"
   ]
  },
  {
   "cell_type": "code",
   "execution_count": 452,
   "id": "2b2c2379",
   "metadata": {},
   "outputs": [],
   "source": [
    "def md5(i):\n",
    "    hl = hb.md5()\n",
    "    \n",
    "    hl.update(str(i).encode(encoding='utf-8'))\n",
    "\n",
    "    #print('加密前為 ：' + str(i))\n",
    "    #print('加密後為 ：' + hl.hexdigest())\n",
    "    \n",
    "    return hl.hexdigest()\n",
    "\n",
    "br_df['username'] = br_df['username'].apply(md5)"
   ]
  },
  {
   "cell_type": "code",
   "execution_count": 445,
   "id": "9c8d5ce6",
   "metadata": {},
   "outputs": [],
   "source": [
    "br_df = br_df[br_df.duplicated('contents_name') == False]"
   ]
  },
  {
   "cell_type": "code",
   "execution_count": 453,
   "id": "8ac5cabc",
   "metadata": {
    "scrolled": false
   },
   "outputs": [],
   "source": [
    "def is_contains_chinese(strs):\n",
    "    for _char in strs:\n",
    "        if '\\u4e00' <= _char <= '\\u9fa5':\n",
    "            return True\n",
    "    return False"
   ]
  },
  {
   "cell_type": "code",
   "execution_count": 424,
   "id": "ac7cb837",
   "metadata": {},
   "outputs": [],
   "source": [
    "#br_df = br_df[br_df['contents_name'].apply(lambda x: is_contains_chinese(x) == True)]"
   ]
  },
  {
   "cell_type": "code",
   "execution_count": 454,
   "id": "df99d413",
   "metadata": {},
   "outputs": [],
   "source": [
    "def Chinese(x):\n",
    "    if x == 'R2_Moodle & Bookroll\\x0b使用說明手冊':\n",
    "        return 'R2_Moodle & Bookroll\\x0bInstruction manual'\n",
    "    if x == 'R4_OnlineJudge操作':\n",
    "        return 'R4_OnlineJudge operate'\n",
    "    if x == 'R1_課程目標與評分':\n",
    "        return 'R1_Course objectives and scoring'\n",
    "    if x == 'C1_1_Python程式語言介紹':\n",
    "        return 'C1_1_Programming language introduction'\n",
    "    if x == 'C1_2_變數':\n",
    "        return 'C1_2_variable'\n",
    "    if x == 'E1_3_輸入輸出':\n",
    "        return 'E1_3_input output'\n",
    "    if x == 'C1_3_輸入輸出':\n",
    "        return 'C1_3_input output'\n",
    "    if x == 'R3_Python學習活動':\n",
    "        return 'R3_Python learning activity'\n",
    "    if x == 'Q_C1_變數與輸入輸出_考古題':\n",
    "        return 'Q_C1_Variables and Input output_archeology Questions'\n",
    "    if x == 'C2_1_基本型態應用(算術運算)':\n",
    "        return 'C2_1_Basic type application (arithmetic operation)'\n",
    "    if x == 'C2_2_基本型態運用(String)':\n",
    "        return 'C2_2_Basic type application (string)'\n",
    "    if x == 'E2_2_基本型態應用(String)':\n",
    "        return 'E2_2_Basic type application (string)'\n",
    "    if x == 'Q_C2_基本型態的應用_考古題':\n",
    "        return 'Q_C2_Basic type application_Archaeology Questions'\n",
    "    if x == 'C3_1_List 列表':\n",
    "        return 'C3_1_List'\n",
    "    if x == 'C3_2_List常用方法':\n",
    "        return 'C3_1_List common method'\n",
    "    if x == 'E3_2_List常用方法':\n",
    "        return 'E3_2_List common method'\n",
    "    if x == 'HW1_題目與解題流程說明':\n",
    "        return 'HW1_questions and problem solving process description'\n",
    "    if x == 'L2_提問評分法則':\n",
    "        return 'L2_Request scoring rule'\n",
    "    if x == 'L1_SQ3R閱讀方法':\n",
    "        return 'L1_SQ3R reading method'\n",
    "    if x == 'VC1_2_變數':\n",
    "        return 'VC1_2_variable'\n",
    "    if x == 'VC1_3_input output':\n",
    "        return 'E3_2_List common method'\n",
    "    if x == 'VC2_1_基本型態應用(算術運算)\t':\n",
    "        return 'VC2_1_Basic type application (arithmetic operation)'\n",
    "    if x == 'VC3_2_List常用方法':\n",
    "        return 'VC3_2_List common method'\n",
    "    if x == 'VC2_2_基本型態應用(String)':\n",
    "        return 'VC2_2_Basic type application (string)'\n",
    "    if x == 'VC3_1_List列表':\n",
    "        return 'VC3_1_List'\n",
    "    if x == 'HW1_A班_程式碼':\n",
    "        return 'HW1_Class A_code'\n",
    "    if x == 'C4_1_Dict字典':\n",
    "        return 'C4_1_Dict'\n",
    "    if x == 'E4_1_Dict字典':\n",
    "        return 'E4_1_Dict'\n",
    "    if x == 'VC4_1_Dict字典':\n",
    "        return 'VC4_1_Dict'\n",
    "    if x == 'C5_1_if判斷式':\n",
    "        return 'C5_1_if judgment'\n",
    "    if x == 'C5_2_巢狀與多向if判斷式':\n",
    "        return 'C5_2_Nested and multi-directional if judgment'\n",
    "    if x == 'E5_2_巢狀與多項if判斷式':\n",
    "        return 'E5_2_Nested and multi-directional if judgment'\n",
    "    if x == 'E5_1_if判斷式':\n",
    "        return 'E5_1_if judgment'\n",
    "    if x == 'QC3_List 列表_考古題':\n",
    "        return 'QC3_List Archaeological question'\n",
    "    if x == 'C6_1_list in for迴圈':\n",
    "        return 'C6_1_list in for'\n",
    "    if x == 'C6_2_range in for迴圈':\n",
    "        return 'C6_2_range in for'\n",
    "    if x == 'QC5_判斷結構_考古題':\n",
    "        return 'QC5_Judgment structure_archaeological problem'\n",
    "    if x == 'HW2_題目與解題流程說明':\n",
    "        return 'HW2_questions and problem solving process description'  \n",
    "    if x == 'OJ_HW2 錯誤類型':\n",
    "        return 'OJ_HW2 type of error'\n",
    "    if x == 'HW2_A班_程式碼':\n",
    "        return 'HW2_Class A_code'\n",
    "    if x == 'QC6_迴圈結構_考古題':\n",
    "        return 'QC6_Loop structure_archaeological question'\n",
    "    if x == 'Q_1092A_期中考':\n",
    "        return 'C6_2_Midterm exam'\n",
    "    if x == 'HW3_題目與解題流程說明':\n",
    "        return 'HW3_questions and problem solving process description'\n",
    "    if x == 'C7_1_def函式':\n",
    "        return 'C7_1_def Function'\n",
    "    if x == 'R6_遠距上課流程':\n",
    "        return 'R6_Remote class process'\n",
    "    if x == 'C7_2_函式與變數的可用位置':\n",
    "        return 'C7_2_Available locations of functions and variables'\n",
    "    if x == 'E7_2_函式應用':\n",
    "        return 'E7_2_Function application'\n",
    "    if x == '程式期末考學生應試須知':\n",
    "        return 'Notes for students taking the final exam'\n",
    "    if x == 'R2_Python學習活動':\n",
    "        return 'R2_Python learning activity'\n",
    "    if x == 'R4_BookRoll使用說明':\n",
    "        return 'R4_BookRoll instructions for use' \n",
    "    if x == 'R3_OnlineJudge操作':\n",
    "        return 'R3_OnlineJudge operate'\n",
    "    if x == 'G_總成績':\n",
    "        return 'G_Overall result'\n",
    "    if x == 'HW1_B班_程式碼':\n",
    "        return 'HW1_Class B_code'\n",
    "    if x == 'Q_C3_List_考古題':\n",
    "        return 'Q_C3_List_archaeological question'\n",
    "    if x == 'Q_C5_if判斷式_考古題':\n",
    "        return 'Q_C5_if judgment_archaeological question'\n",
    "    if x == 'HW2_B班程式碼':\n",
    "        return 'HW2_Class B code'\n",
    "    if x == 'G_總成績':\n",
    "        return 'G_Overall result'\n",
    "    if x == 'HW1_B班_程式碼':\n",
    "        return 'HW1_Class B_code'\n",
    "    if x == 'Q_C6_迴圈結構_考古題':\n",
    "        return 'Q_C6_Loop structure_archaeological question'\n",
    "    if x == 'Q_1092B_期中考':\n",
    "        return 'Q_1092B_Midterm exam'\n",
    "    if is_contains_chinese(x) == False:\n",
    "        return x\n",
    "br_df['contents_name']= br_df['contents_name'].apply(Chinese)"
   ]
  },
  {
   "cell_type": "code",
   "execution_count": 455,
   "id": "6339c662",
   "metadata": {
    "scrolled": false
   },
   "outputs": [
    {
     "data": {
      "text/plain": [
       "3          R2_Moodle & Bookroll\n",
       "Instruction manual\n",
       "4          R2_Moodle & Bookroll\n",
       "Instruction manual\n",
       "5          R2_Moodle & Bookroll\n",
       "Instruction manual\n",
       "6          R2_Moodle & Bookroll\n",
       "Instruction manual\n",
       "7          R2_Moodle & Bookroll\n",
       "Instruction manual\n",
       "                            ...                   \n",
       "578902    Notes for students taking the final exam\n",
       "578903    Notes for students taking the final exam\n",
       "578904    Notes for students taking the final exam\n",
       "578905    Notes for students taking the final exam\n",
       "578906    Notes for students taking the final exam\n",
       "Name: contents_name, Length: 572074, dtype: object"
      ]
     },
     "execution_count": 455,
     "metadata": {},
     "output_type": "execute_result"
    }
   ],
   "source": []
  },
  {
   "cell_type": "code",
   "execution_count": null,
   "id": "7aaaa4ae",
   "metadata": {
    "scrolled": false
   },
   "outputs": [],
   "source": []
  },
  {
   "cell_type": "code",
   "execution_count": null,
   "id": "f70299bc",
   "metadata": {},
   "outputs": [],
   "source": []
  },
  {
   "cell_type": "code",
   "execution_count": null,
   "id": "e84c0df2",
   "metadata": {},
   "outputs": [],
   "source": []
  },
  {
   "cell_type": "code",
   "execution_count": null,
   "id": "7f1d1683",
   "metadata": {},
   "outputs": [],
   "source": []
  }
 ],
 "metadata": {
  "kernelspec": {
   "display_name": "Python 3 (ipykernel)",
   "language": "python",
   "name": "python3"
  },
  "language_info": {
   "codemirror_mode": {
    "name": "ipython",
    "version": 3
   },
   "file_extension": ".py",
   "mimetype": "text/x-python",
   "name": "python",
   "nbconvert_exporter": "python",
   "pygments_lexer": "ipython3",
   "version": "3.8.3"
  }
 },
 "nbformat": 4,
 "nbformat_minor": 5
}
